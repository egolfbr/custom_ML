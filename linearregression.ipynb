{
 "cells": [
  {
   "cell_type": "code",
   "execution_count": 1,
   "metadata": {},
   "outputs": [],
   "source": [
    "import numpy as np \n",
    "def linearRegression(xtrain, ytrain, alpha, num_iters):\n",
    "\n",
    "    a0 = a1 = 0\n",
    "    iters = 0\n",
    "    xtrain = np.asarray(xtrain)\n",
    "    ytrain = np.asarray(ytrain)\n",
    "\n",
    "    \n",
    "    while iters < num_iters:\n",
    "\n",
    "        # y = a0*X + a1\n",
    "        predictions = xtrain.dot(a0) + a1\n",
    "\n",
    "        da0 = np.sum(2*(predictions - ytrain).dot(xtrain)) \n",
    "        da1 = np.sum(2*(predictions - ytrain)) \n",
    "\n",
    "        a0 = a0 - alpha*da0\n",
    "        a1 = a1 - alpha*da1\n",
    "\n",
    "\n",
    "      \n",
    "        iters += 1\n",
    "\n",
    "\n",
    "    return a0, a1"
   ]
  }
 ],
 "metadata": {
  "kernelspec": {
   "display_name": "Python 3.10.5 64-bit",
   "language": "python",
   "name": "python3"
  },
  "language_info": {
   "codemirror_mode": {
    "name": "ipython",
    "version": 3
   },
   "file_extension": ".py",
   "mimetype": "text/x-python",
   "name": "python",
   "nbconvert_exporter": "python",
   "pygments_lexer": "ipython3",
   "version": "3.10.5"
  },
  "orig_nbformat": 4,
  "vscode": {
   "interpreter": {
    "hash": "aee8b7b246df8f9039afb4144a1f6fd8d2ca17a180786b69acc140d282b71a49"
   }
  }
 },
 "nbformat": 4,
 "nbformat_minor": 2
}
